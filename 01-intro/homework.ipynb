{
 "cells": [
  {
   "cell_type": "code",
   "execution_count": null,
   "id": "ab2d7821",
   "metadata": {},
   "outputs": [],
   "source": [
    "import numpy as np\n",
    "import pandas as pd"
   ]
  },
  {
   "cell_type": "code",
   "execution_count": null,
   "id": "2afed03a",
   "metadata": {},
   "outputs": [],
   "source": [
    "# Read the data\n",
    "df = pd.read_csv(\"data.csv\")\n",
    "df.info()"
   ]
  },
  {
   "cell_type": "markdown",
   "id": "9e447934",
   "metadata": {},
   "source": [
    "# Question 1\n",
    "### What's the version of NumPy that you installed?"
   ]
  },
  {
   "cell_type": "code",
   "execution_count": null,
   "id": "80a0a48c",
   "metadata": {},
   "outputs": [],
   "source": [
    "np.__version__"
   ]
  },
  {
   "cell_type": "markdown",
   "id": "d3585025",
   "metadata": {},
   "source": [
    "# Question 2\n",
    "### How many records are in the dataset?"
   ]
  },
  {
   "cell_type": "code",
   "execution_count": null,
   "id": "004b0623",
   "metadata": {},
   "outputs": [],
   "source": [
    "df.shape[0]"
   ]
  },
  {
   "cell_type": "markdown",
   "id": "6a674867",
   "metadata": {},
   "source": [
    "# Question 3\n",
    "### Who are the most popular car manufacturers (top-3) according to the dataset?"
   ]
  },
  {
   "cell_type": "code",
   "execution_count": null,
   "id": "b418914f",
   "metadata": {
    "scrolled": true
   },
   "outputs": [],
   "source": [
    "df.groupby(['Make']).Popularity.sum().sort_values(ascending=False).head(3)"
   ]
  },
  {
   "cell_type": "markdown",
   "id": "98dc7448",
   "metadata": {},
   "source": [
    "# Question 4\n",
    "### What's the number of unique Audi car models in the dataset?"
   ]
  },
  {
   "cell_type": "code",
   "execution_count": null,
   "id": "5fbf6043",
   "metadata": {},
   "outputs": [],
   "source": [
    "audi_cars = df.loc[df.Make == 'Audi']"
   ]
  },
  {
   "cell_type": "code",
   "execution_count": null,
   "id": "24358714",
   "metadata": {},
   "outputs": [],
   "source": [
    "audi_cars.groupby(['Model']).size().sort_values(ascending=False).size\n"
   ]
  },
  {
   "cell_type": "markdown",
   "id": "b6f8fa75",
   "metadata": {},
   "source": [
    "# Question 5\n",
    "### How many columns in the dataset have missing values?"
   ]
  },
  {
   "cell_type": "code",
   "execution_count": null,
   "metadata": {},
   "outputs": [],
   "source": [
    "df.isna().any()"
   ]
  },
  {
   "cell_type": "code",
   "execution_count": null,
   "id": "c29f74ab",
   "metadata": {},
   "outputs": [],
   "source": [
    "df[df.columns[df.isnull().any()]].columns"
   ]
  },
  {
   "cell_type": "code",
   "execution_count": null,
   "id": "0f569b18",
   "metadata": {},
   "outputs": [],
   "source": [
    "df.isnull().any().sum() \n",
    "# df[df.columns[df.isnull().any()]].columns.size"
   ]
  },
  {
   "cell_type": "markdown",
   "id": "4b937eb4",
   "metadata": {},
   "source": [
    "# Question 6\n",
    "### Who are the most popular car manufacturers (top-3) according to the dataset?"
   ]
  },
  {
   "cell_type": "code",
   "execution_count": null,
   "id": "29da3022",
   "metadata": {},
   "outputs": [],
   "source": [
    "engine_median = df['Engine Cylinders'].median()\n",
    "engine_median"
   ]
  },
  {
   "cell_type": "code",
   "execution_count": null,
   "id": "d46753a2",
   "metadata": {
    "scrolled": true
   },
   "outputs": [],
   "source": [
    "engine_mode = df['Engine Cylinders'].mode()[0]\n",
    "engine_mode"
   ]
  },
  {
   "cell_type": "code",
   "execution_count": null,
   "id": "871b7b5d",
   "metadata": {},
   "outputs": [],
   "source": [
    "df['Engine Cylinders'] = df['Engine Cylinders'].fillna(engine_mode)\n",
    "df['Engine Cylinders'].hasnans"
   ]
  },
  {
   "cell_type": "code",
   "execution_count": null,
   "id": "c380f7df",
   "metadata": {},
   "outputs": [],
   "source": [
    "df['Engine Cylinders'].median()"
   ]
  },
  {
   "cell_type": "markdown",
   "id": "1e87171c",
   "metadata": {},
   "source": [
    "# Question 7\n",
    "### What's the value of the first element of w?"
   ]
  },
  {
   "cell_type": "code",
   "execution_count": null,
   "id": "9bbac3fe",
   "metadata": {},
   "outputs": [],
   "source": [
    "\n",
    "lotus_df = df.loc[df['Make'] == 'Lotus'][['Engine HP','Engine Cylinders']].drop_duplicates()\n",
    "lotus_df"
   ]
  },
  {
   "cell_type": "code",
   "execution_count": null,
   "id": "ae397e22",
   "metadata": {},
   "outputs": [],
   "source": [
    "# Lotus Matrix (9,2)\n",
    "X = np.array(lotus_df)\n",
    "X"
   ]
  },
  {
   "cell_type": "code",
   "execution_count": null,
   "id": "0846e62c",
   "metadata": {},
   "outputs": [],
   "source": [
    "# Lotus Transpose Matrix (2,9)\n",
    "Xt = X.T"
   ]
  },
  {
   "cell_type": "code",
   "execution_count": null,
   "id": "b70f6fe5",
   "metadata": {},
   "outputs": [],
   "source": [
    "# Matrix multiplication (2,2)\n",
    "XTX = Xt.dot(X)"
   ]
  },
  {
   "cell_type": "code",
   "execution_count": null,
   "id": "791f763c",
   "metadata": {},
   "outputs": [],
   "source": [
    "# Invert the Matrix multiplication (2,2)\n",
    "XTX_inv = np.linalg.inv(XTX)"
   ]
  },
  {
   "cell_type": "code",
   "execution_count": null,
   "id": "f840cd93",
   "metadata": {},
   "outputs": [],
   "source": [
    "# Array\n",
    "y = np.array([1100, 800, 750, 850, 1300, 1000, 1000, 1300, 800])"
   ]
  },
  {
   "cell_type": "code",
   "execution_count": null,
   "id": "2703846f",
   "metadata": {},
   "outputs": [],
   "source": [
    "# Multiply the inverse of XTX with the transpose of X\n",
    "XTX_XT = XTX_inv.dot(Xt)\n",
    "\n",
    "# multiply the result by y\n",
    "w = XTX_XT.dot(y)\n",
    "w"
   ]
  }
 ],
 "metadata": {
  "kernelspec": {
   "display_name": "Python 3.9.12 ('base')",
   "language": "python",
   "name": "python3"
  },
  "language_info": {
   "codemirror_mode": {
    "name": "ipython",
    "version": 3
   },
   "file_extension": ".py",
   "mimetype": "text/x-python",
   "name": "python",
   "nbconvert_exporter": "python",
   "pygments_lexer": "ipython3",
   "version": "3.9.12"
  },
  "vscode": {
   "interpreter": {
    "hash": "caf1c2fcf97217de91eafa76b907d50f9ea378f5ffbee7f571142d119bb6a771"
   }
  }
 },
 "nbformat": 4,
 "nbformat_minor": 5
}
