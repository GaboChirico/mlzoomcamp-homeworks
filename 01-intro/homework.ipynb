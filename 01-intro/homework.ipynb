{
 "cells": [
  {
   "cell_type": "code",
   "execution_count": 1,
   "id": "ab2d7821",
   "metadata": {},
   "outputs": [],
   "source": [
    "import numpy as np\n",
    "import pandas as pd"
   ]
  },
  {
   "cell_type": "code",
   "execution_count": 2,
   "id": "2afed03a",
   "metadata": {},
   "outputs": [
    {
     "name": "stdout",
     "output_type": "stream",
     "text": [
      "<class 'pandas.core.frame.DataFrame'>\n",
      "RangeIndex: 11914 entries, 0 to 11913\n",
      "Data columns (total 16 columns):\n",
      " #   Column             Non-Null Count  Dtype  \n",
      "---  ------             --------------  -----  \n",
      " 0   Make               11914 non-null  object \n",
      " 1   Model              11914 non-null  object \n",
      " 2   Year               11914 non-null  int64  \n",
      " 3   Engine Fuel Type   11911 non-null  object \n",
      " 4   Engine HP          11845 non-null  float64\n",
      " 5   Engine Cylinders   11884 non-null  float64\n",
      " 6   Transmission Type  11914 non-null  object \n",
      " 7   Driven_Wheels      11914 non-null  object \n",
      " 8   Number of Doors    11908 non-null  float64\n",
      " 9   Market Category    8172 non-null   object \n",
      " 10  Vehicle Size       11914 non-null  object \n",
      " 11  Vehicle Style      11914 non-null  object \n",
      " 12  highway MPG        11914 non-null  int64  \n",
      " 13  city mpg           11914 non-null  int64  \n",
      " 14  Popularity         11914 non-null  int64  \n",
      " 15  MSRP               11914 non-null  int64  \n",
      "dtypes: float64(3), int64(5), object(8)\n",
      "memory usage: 1.5+ MB\n"
     ]
    }
   ],
   "source": [
    "# Read the data\n",
    "df = pd.read_csv(\"data.csv\")\n",
    "df.info()"
   ]
  },
  {
   "cell_type": "markdown",
   "id": "9e447934",
   "metadata": {},
   "source": [
    "### Question 1\n",
    "\n",
    "What's the version of NumPy that you installed? "
   ]
  },
  {
   "cell_type": "code",
   "execution_count": 3,
   "id": "80a0a48c",
   "metadata": {},
   "outputs": [
    {
     "data": {
      "text/plain": [
       "'1.21.5'"
      ]
     },
     "execution_count": 3,
     "metadata": {},
     "output_type": "execute_result"
    }
   ],
   "source": [
    "np.__version__"
   ]
  },
  {
   "cell_type": "markdown",
   "id": "d3585025",
   "metadata": {},
   "source": [
    "### Question 2\n",
    "\n",
    "How many records are in the dataset?\n",
    "\n",
    "Here you need to specify the number of rows."
   ]
  },
  {
   "cell_type": "code",
   "execution_count": 4,
   "id": "004b0623",
   "metadata": {},
   "outputs": [
    {
     "data": {
      "text/plain": [
       "11914"
      ]
     },
     "execution_count": 4,
     "metadata": {},
     "output_type": "execute_result"
    }
   ],
   "source": [
    "df.shape[0]"
   ]
  },
  {
   "cell_type": "markdown",
   "id": "6a674867",
   "metadata": {},
   "source": [
    "### Question 3\n",
    "\n",
    "Who are the most frequent car manufacturers (top-3) according to the dataset?"
   ]
  },
  {
   "cell_type": "code",
   "execution_count": 10,
   "id": "b418914f",
   "metadata": {
    "scrolled": true
   },
   "outputs": [
    {
     "data": {
      "text/plain": [
       "Make\n",
       "Ford         4983817\n",
       "Chevrolet    1555355\n",
       "Toyota       1515126\n",
       "Name: Popularity, dtype: int64"
      ]
     },
     "execution_count": 10,
     "metadata": {},
     "output_type": "execute_result"
    }
   ],
   "source": [
    "df.groupby(['Make']).Popularity.sum().sort_values(ascending=False).head(3)"
   ]
  },
  {
   "cell_type": "markdown",
   "id": "98dc7448",
   "metadata": {},
   "source": [
    "### Question 4\n",
    "\n",
    "What's the number of unique Audi car models in the dataset?"
   ]
  },
  {
   "cell_type": "code",
   "execution_count": 6,
   "id": "5fbf6043",
   "metadata": {},
   "outputs": [],
   "source": [
    "audi_cars = df.loc[df.Make == 'Audi']"
   ]
  },
  {
   "cell_type": "code",
   "execution_count": 7,
   "id": "24358714",
   "metadata": {},
   "outputs": [
    {
     "data": {
      "text/plain": [
       "34"
      ]
     },
     "execution_count": 7,
     "metadata": {},
     "output_type": "execute_result"
    }
   ],
   "source": [
    "audi_cars.groupby(['Model']).size().sort_values(ascending=False).size\n"
   ]
  },
  {
   "cell_type": "markdown",
   "id": "b6f8fa75",
   "metadata": {},
   "source": [
    "### Question 5\n",
    "\n",
    "How many columns in the dataset have missing values?"
   ]
  },
  {
   "cell_type": "code",
   "execution_count": 8,
   "metadata": {},
   "outputs": [
    {
     "data": {
      "text/plain": [
       "Make                 False\n",
       "Model                False\n",
       "Year                 False\n",
       "Engine Fuel Type      True\n",
       "Engine HP             True\n",
       "Engine Cylinders      True\n",
       "Transmission Type    False\n",
       "Driven_Wheels        False\n",
       "Number of Doors       True\n",
       "Market Category       True\n",
       "Vehicle Size         False\n",
       "Vehicle Style        False\n",
       "highway MPG          False\n",
       "city mpg             False\n",
       "Popularity           False\n",
       "MSRP                 False\n",
       "dtype: bool"
      ]
     },
     "execution_count": 8,
     "metadata": {},
     "output_type": "execute_result"
    }
   ],
   "source": [
    "df.isna().any()"
   ]
  },
  {
   "cell_type": "code",
   "execution_count": 9,
   "id": "c29f74ab",
   "metadata": {},
   "outputs": [
    {
     "data": {
      "text/plain": [
       "Index(['Engine Fuel Type', 'Engine HP', 'Engine Cylinders', 'Number of Doors',\n",
       "       'Market Category'],\n",
       "      dtype='object')"
      ]
     },
     "execution_count": 9,
     "metadata": {},
     "output_type": "execute_result"
    }
   ],
   "source": [
    "df[df.columns[df.isnull().any()]].columns"
   ]
  },
  {
   "cell_type": "code",
   "execution_count": 10,
   "id": "0f569b18",
   "metadata": {},
   "outputs": [
    {
     "data": {
      "text/plain": [
       "5"
      ]
     },
     "execution_count": 10,
     "metadata": {},
     "output_type": "execute_result"
    }
   ],
   "source": [
    "df.isnull().any().sum() \n",
    "# df[df.columns[df.isnull().any()]].columns.size"
   ]
  },
  {
   "cell_type": "markdown",
   "id": "4b937eb4",
   "metadata": {},
   "source": [
    "### Question 6\n",
    "1. Find the median value of \"Engine Cylinders\" column in the dataset.\n",
    "2. Next, calculate the most frequent value of the same \"Engine Cylinders\".\n",
    "3. Use the `fillna` method to fill the missing values in \"Engine Cylinders\" with the most frequent value from the previous step.\n",
    "4. Now, calculate the median value of \"Engine Cylinders\" once again.\n",
    "\n",
    "Has it changed?\n"
   ]
  },
  {
   "cell_type": "code",
   "execution_count": 11,
   "id": "29da3022",
   "metadata": {},
   "outputs": [
    {
     "data": {
      "text/plain": [
       "6.0"
      ]
     },
     "execution_count": 11,
     "metadata": {},
     "output_type": "execute_result"
    }
   ],
   "source": [
    "engine_median = df['Engine Cylinders'].median()\n",
    "engine_median"
   ]
  },
  {
   "cell_type": "code",
   "execution_count": 12,
   "id": "d46753a2",
   "metadata": {
    "scrolled": true
   },
   "outputs": [
    {
     "data": {
      "text/plain": [
       "4.0"
      ]
     },
     "execution_count": 12,
     "metadata": {},
     "output_type": "execute_result"
    }
   ],
   "source": [
    "engine_mode = df['Engine Cylinders'].mode()[0]\n",
    "engine_mode"
   ]
  },
  {
   "cell_type": "code",
   "execution_count": 13,
   "id": "871b7b5d",
   "metadata": {},
   "outputs": [
    {
     "data": {
      "text/plain": [
       "False"
      ]
     },
     "execution_count": 13,
     "metadata": {},
     "output_type": "execute_result"
    }
   ],
   "source": [
    "df['Engine Cylinders'] = df['Engine Cylinders'].fillna(engine_mode)\n",
    "df['Engine Cylinders'].hasnans"
   ]
  },
  {
   "cell_type": "code",
   "execution_count": 14,
   "id": "c380f7df",
   "metadata": {},
   "outputs": [
    {
     "data": {
      "text/plain": [
       "6.0"
      ]
     },
     "execution_count": 14,
     "metadata": {},
     "output_type": "execute_result"
    }
   ],
   "source": [
    "df['Engine Cylinders'].median()"
   ]
  },
  {
   "cell_type": "markdown",
   "id": "1e87171c",
   "metadata": {},
   "source": [
    "### Question 7\n",
    "\n",
    "1. Select all the \"Lotus\" cars from the dataset.\n",
    "2. Select only columns \"Engine HP\", \"Engine Cylinders\".\n",
    "3. Now drop all duplicated rows using `drop_duplicates` method (you should get a dataframe with 9 rows).\n",
    "4. Get the underlying NumPy array. Let's call it `X`.\n",
    "5. Compute matrix-matrix multiplication between the transpose of `X` and `X`. To get the transpose, use `X.T`. Let's call the result `XTX`.\n",
    "6. Invert `XTX`.\n",
    "7. Create an array `y` with values `[1100, 800, 750, 850, 1300, 1000, 1000, 1300, 800]`.\n",
    "8. Multiply the inverse of `XTX` with the transpose of `X`, and then multiply the result by `y`. Call the result `w`.\n",
    "9. What's the value of the first element of `w`?\n"
   ]
  },
  {
   "cell_type": "code",
   "execution_count": 15,
   "id": "9bbac3fe",
   "metadata": {},
   "outputs": [
    {
     "data": {
      "text/html": [
       "<div>\n",
       "<style scoped>\n",
       "    .dataframe tbody tr th:only-of-type {\n",
       "        vertical-align: middle;\n",
       "    }\n",
       "\n",
       "    .dataframe tbody tr th {\n",
       "        vertical-align: top;\n",
       "    }\n",
       "\n",
       "    .dataframe thead th {\n",
       "        text-align: right;\n",
       "    }\n",
       "</style>\n",
       "<table border=\"1\" class=\"dataframe\">\n",
       "  <thead>\n",
       "    <tr style=\"text-align: right;\">\n",
       "      <th></th>\n",
       "      <th>Engine HP</th>\n",
       "      <th>Engine Cylinders</th>\n",
       "    </tr>\n",
       "  </thead>\n",
       "  <tbody>\n",
       "    <tr>\n",
       "      <th>3912</th>\n",
       "      <td>189.0</td>\n",
       "      <td>4.0</td>\n",
       "    </tr>\n",
       "    <tr>\n",
       "      <th>3913</th>\n",
       "      <td>218.0</td>\n",
       "      <td>4.0</td>\n",
       "    </tr>\n",
       "    <tr>\n",
       "      <th>3918</th>\n",
       "      <td>217.0</td>\n",
       "      <td>4.0</td>\n",
       "    </tr>\n",
       "    <tr>\n",
       "      <th>4216</th>\n",
       "      <td>350.0</td>\n",
       "      <td>8.0</td>\n",
       "    </tr>\n",
       "    <tr>\n",
       "      <th>4257</th>\n",
       "      <td>400.0</td>\n",
       "      <td>6.0</td>\n",
       "    </tr>\n",
       "    <tr>\n",
       "      <th>4259</th>\n",
       "      <td>276.0</td>\n",
       "      <td>6.0</td>\n",
       "    </tr>\n",
       "    <tr>\n",
       "      <th>4262</th>\n",
       "      <td>345.0</td>\n",
       "      <td>6.0</td>\n",
       "    </tr>\n",
       "    <tr>\n",
       "      <th>4292</th>\n",
       "      <td>257.0</td>\n",
       "      <td>4.0</td>\n",
       "    </tr>\n",
       "    <tr>\n",
       "      <th>4293</th>\n",
       "      <td>240.0</td>\n",
       "      <td>4.0</td>\n",
       "    </tr>\n",
       "  </tbody>\n",
       "</table>\n",
       "</div>"
      ],
      "text/plain": [
       "      Engine HP  Engine Cylinders\n",
       "3912      189.0               4.0\n",
       "3913      218.0               4.0\n",
       "3918      217.0               4.0\n",
       "4216      350.0               8.0\n",
       "4257      400.0               6.0\n",
       "4259      276.0               6.0\n",
       "4262      345.0               6.0\n",
       "4292      257.0               4.0\n",
       "4293      240.0               4.0"
      ]
     },
     "execution_count": 15,
     "metadata": {},
     "output_type": "execute_result"
    }
   ],
   "source": [
    "\n",
    "lotus_df = df.loc[df['Make'] == 'Lotus'][['Engine HP','Engine Cylinders']].drop_duplicates()\n",
    "lotus_df"
   ]
  },
  {
   "cell_type": "code",
   "execution_count": 16,
   "id": "ae397e22",
   "metadata": {},
   "outputs": [
    {
     "data": {
      "text/plain": [
       "array([[189.,   4.],\n",
       "       [218.,   4.],\n",
       "       [217.,   4.],\n",
       "       [350.,   8.],\n",
       "       [400.,   6.],\n",
       "       [276.,   6.],\n",
       "       [345.,   6.],\n",
       "       [257.,   4.],\n",
       "       [240.,   4.]])"
      ]
     },
     "execution_count": 16,
     "metadata": {},
     "output_type": "execute_result"
    }
   ],
   "source": [
    "# Lotus Matrix (9,2)\n",
    "X = np.array(lotus_df)\n",
    "X"
   ]
  },
  {
   "cell_type": "code",
   "execution_count": 17,
   "id": "0846e62c",
   "metadata": {},
   "outputs": [],
   "source": [
    "# Lotus Transpose Matrix (2,9)\n",
    "Xt = X.T"
   ]
  },
  {
   "cell_type": "code",
   "execution_count": 18,
   "id": "b70f6fe5",
   "metadata": {},
   "outputs": [],
   "source": [
    "# Matrix multiplication (2,2)\n",
    "XTX = Xt.dot(X)"
   ]
  },
  {
   "cell_type": "code",
   "execution_count": 19,
   "id": "791f763c",
   "metadata": {},
   "outputs": [],
   "source": [
    "# Invert the Matrix multiplication (2,2)\n",
    "XTX_inv = np.linalg.inv(XTX)"
   ]
  },
  {
   "cell_type": "code",
   "execution_count": 20,
   "id": "f840cd93",
   "metadata": {},
   "outputs": [],
   "source": [
    "# Array\n",
    "y = np.array([1100, 800, 750, 850, 1300, 1000, 1000, 1300, 800])"
   ]
  },
  {
   "cell_type": "code",
   "execution_count": 21,
   "id": "2703846f",
   "metadata": {},
   "outputs": [
    {
     "data": {
      "text/plain": [
       "array([  4.59494481, -63.56432501])"
      ]
     },
     "execution_count": 21,
     "metadata": {},
     "output_type": "execute_result"
    }
   ],
   "source": [
    "# Multiply the inverse of XTX with the transpose of X\n",
    "XTX_XT = XTX_inv.dot(Xt)\n",
    "\n",
    "# multiply the result by y\n",
    "w = XTX_XT.dot(y)\n",
    "w"
   ]
  }
 ],
 "metadata": {
  "kernelspec": {
   "display_name": "Python 3.10.5 ('.venv')",
   "language": "python",
   "name": "python3"
  },
  "language_info": {
   "codemirror_mode": {
    "name": "ipython",
    "version": 3
   },
   "file_extension": ".py",
   "mimetype": "text/x-python",
   "name": "python",
   "nbconvert_exporter": "python",
   "pygments_lexer": "ipython3",
   "version": "3.10.5"
  },
  "vscode": {
   "interpreter": {
    "hash": "387e85755f343de4a4def0e7fbe48ad8cce3c36de46cc15fb761ae3f6e6e7b76"
   }
  }
 },
 "nbformat": 4,
 "nbformat_minor": 5
}
